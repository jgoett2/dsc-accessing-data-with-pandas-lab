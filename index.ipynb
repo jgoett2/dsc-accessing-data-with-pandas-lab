{
  "cells": [
    {
      "cell_type": "markdown",
      "metadata": {
        "id": "51bjwg90VKb0"
      },
      "source": [
        "# Accessing Data within Pandas - Lab"
      ]
    },
    {
      "cell_type": "markdown",
      "metadata": {
        "id": "zJGvxoFEVKb1"
      },
      "source": [
        "## Introduction\n",
        "\n",
        "In this lab, we'll look at a dataset which contains information on World Cup matches. Let's use the pandas commands learned in the previous lesson to learn more about our data!"
      ]
    },
    {
      "cell_type": "markdown",
      "metadata": {
        "id": "QkcbmkE-VKb1"
      },
      "source": [
        "## Objectives\n",
        "\n",
        "You will be able to:\n",
        "\n",
        "- Use pandas methods and attributes to access information about a dataset\n",
        "- Index pandas dataframes with .loc, .iloc, and column names\n",
        "- Use a boolean mask to index pandas series and dataframes"
      ]
    },
    {
      "cell_type": "markdown",
      "metadata": {
        "id": "2A9OWhV3VKb2"
      },
      "source": [
        "## Load the Data"
      ]
    },
    {
      "cell_type": "markdown",
      "metadata": {
        "id": "QnUWodP8VKb2"
      },
      "source": [
        "Load the file `'WorldCupMatches.csv'` as a DataFrame in pandas."
      ]
    },
    {
      "cell_type": "code",
      "execution_count": 12,
      "metadata": {
        "id": "zJmk6x0UVKb2",
        "outputId": "b2f91c37-f21d-4204-9ed3-4290b3efe72c",
        "colab": {
          "base_uri": "https://localhost:8080/",
          "height": 105
        }
      },
      "outputs": [
        {
          "output_type": "error",
          "ename": "SyntaxError",
          "evalue": "invalid syntax (<ipython-input-12-2569267ff954>, line 4)",
          "traceback": [
            "\u001b[0;36m  File \u001b[0;32m\"<ipython-input-12-2569267ff954>\"\u001b[0;36m, line \u001b[0;32m4\u001b[0m\n\u001b[0;31m    None Test it out\u001b[0m\n\u001b[0m         ^\u001b[0m\n\u001b[0;31mSyntaxError\u001b[0m\u001b[0;31m:\u001b[0m invalid syntax\n"
          ]
        }
      ],
      "source": [
        "# Replace None with appropriate code\n",
        "\n",
        "# Import pandas using the standard alias\n",
        "None Test it out\n",
        "\n",
        "\n",
        "# Load 'WorldCupMatches.csv' as a DataFrame\n",
        "df = None"
      ]
    },
    {
      "cell_type": "markdown",
      "metadata": {
        "id": "7oJQa6eGVKb3"
      },
      "source": [
        "## Common Methods and Attributes"
      ]
    },
    {
      "cell_type": "markdown",
      "metadata": {
        "id": "RgAqHLNoVKb3"
      },
      "source": [
        "Use the correct method to display the **first 7 rows** of the dataset."
      ]
    },
    {
      "cell_type": "code",
      "execution_count": null,
      "metadata": {
        "id": "t3yeB7R5VKb3"
      },
      "outputs": [],
      "source": [
        "# Your code here"
      ]
    },
    {
      "cell_type": "markdown",
      "metadata": {
        "id": "WSpfxLGyVKb3"
      },
      "source": [
        "Display the **last 3 rows** of the dataset."
      ]
    },
    {
      "cell_type": "code",
      "execution_count": null,
      "metadata": {
        "id": "Y1Reh4OGVKb4"
      },
      "outputs": [],
      "source": [
        "# Your code here"
      ]
    },
    {
      "cell_type": "markdown",
      "metadata": {
        "id": "LCja1rUhVKb4"
      },
      "source": [
        "Get a concise summary of the data using `.info()`."
      ]
    },
    {
      "cell_type": "code",
      "execution_count": null,
      "metadata": {
        "id": "SwxRoEt2VKb4"
      },
      "outputs": [],
      "source": [
        "# Your code here"
      ]
    },
    {
      "cell_type": "markdown",
      "metadata": {
        "id": "tj0xrLjqVKb4"
      },
      "source": [
        "Obtain a tuple representing the **number of rows and number of columns**."
      ]
    },
    {
      "cell_type": "code",
      "execution_count": null,
      "metadata": {
        "id": "orifRg1BVKb4"
      },
      "outputs": [],
      "source": [
        "# Your code here"
      ]
    },
    {
      "cell_type": "markdown",
      "metadata": {
        "id": "S0MOANGzVKb5"
      },
      "source": [
        "Use the appropriate attribute to get the **column names**."
      ]
    },
    {
      "cell_type": "code",
      "execution_count": null,
      "metadata": {
        "id": "r395clHNVKb5"
      },
      "outputs": [],
      "source": [
        "# Your code here"
      ]
    },
    {
      "cell_type": "markdown",
      "metadata": {
        "id": "KuiNMuVrVKb5"
      },
      "source": [
        "## Selecting DataFrame Information"
      ]
    },
    {
      "cell_type": "markdown",
      "metadata": {
        "id": "x49Yb9LkVKb5"
      },
      "source": [
        "When looking at the DataFrame's `.head()` and `.tail()`, you might have noticed that the games are structured chronologically in the DataFrame.\n",
        "\n",
        "Use the right selection method to display all the information from the 3rd to the 5th game (i.e. **select rows 3 through 5 inclusive**)."
      ]
    },
    {
      "cell_type": "code",
      "execution_count": null,
      "metadata": {
        "id": "DkOrAXtpVKb5"
      },
      "outputs": [],
      "source": [
        "# Your code here"
      ]
    },
    {
      "cell_type": "markdown",
      "metadata": {
        "id": "9qOUoCRtVKb6"
      },
      "source": [
        "Now, display the info from **game 5-9** (inclusive), but **only the `\"Home Team Name\"` and the `\"Away Team Name\"` columns**."
      ]
    },
    {
      "cell_type": "code",
      "execution_count": null,
      "metadata": {
        "id": "bJjHVSEBVKb6"
      },
      "outputs": [],
      "source": [
        "# Your code here"
      ]
    },
    {
      "cell_type": "markdown",
      "metadata": {
        "id": "YEKwno_TVKb6"
      },
      "source": [
        "Next, we'd like the information on all the games played in **Group 3** for the **1950** World Cup."
      ]
    },
    {
      "cell_type": "markdown",
      "metadata": {
        "id": "kcRXok4KVKb6"
      },
      "source": [
        "Hint: You can combine conditions like this:\n",
        "\n",
        "`df[(condition1) | (condition2)]`  -> Returns rows where either condition is true\n",
        "\n",
        "`df[(condition1) & (condition2)]`  -> Returns rows where both conditions are true"
      ]
    },
    {
      "cell_type": "code",
      "execution_count": null,
      "metadata": {
        "id": "rf51vIBrVKb7"
      },
      "outputs": [],
      "source": [
        "# Your code here"
      ]
    },
    {
      "cell_type": "markdown",
      "metadata": {
        "id": "4Iso9B05VKb7"
      },
      "source": [
        "Let's repeat the command above, but this time display **only the attendance column** for the Group 3 games."
      ]
    },
    {
      "cell_type": "code",
      "execution_count": null,
      "metadata": {
        "id": "x8tEBHpHVKb7"
      },
      "outputs": [],
      "source": [
        "# Your code here"
      ]
    },
    {
      "cell_type": "markdown",
      "metadata": {
        "id": "apQgBuiCVKb7"
      },
      "source": [
        "Throughout the entire history of the World Cup as recorded in this dataset, **how many home games were played by the Netherlands**?\n",
        "\n",
        "(Remember that you can use the `len()` built-in function to find the number of rows in a DataFrame.)"
      ]
    },
    {
      "cell_type": "code",
      "execution_count": null,
      "metadata": {
        "id": "UkW58ac4VKb7"
      },
      "outputs": [],
      "source": [
        "# Your code here"
      ]
    },
    {
      "cell_type": "markdown",
      "metadata": {
        "id": "A917eYsqVKb7"
      },
      "source": [
        "**How many games were played by the Netherlands in total**?"
      ]
    },
    {
      "cell_type": "code",
      "execution_count": null,
      "metadata": {
        "id": "Z7CVXX2HVKb7"
      },
      "outputs": [],
      "source": [
        "# Your code here"
      ]
    },
    {
      "cell_type": "markdown",
      "metadata": {
        "id": "veFEXlwuVKb7"
      },
      "source": [
        "Next, let's try and figure out **how many games the USA played in the 2014 World Cup**."
      ]
    },
    {
      "cell_type": "code",
      "execution_count": null,
      "metadata": {
        "id": "kY4YJqjSVKb7"
      },
      "outputs": [],
      "source": [
        "# Your code here"
      ]
    },
    {
      "cell_type": "markdown",
      "metadata": {
        "id": "RwxXnCmeVKb7"
      },
      "source": [
        "Now, let's try to find out **how many countries participated in the 1986 World Cup**."
      ]
    },
    {
      "cell_type": "markdown",
      "metadata": {
        "id": "g5cnWyhoVKb7"
      },
      "source": [
        "Hint 1: As a first step, create a new dataset that only contains games in that year.\n",
        "\n",
        "Hint 2: Make sure you don't end up with duplicate country names. Consider using `set()` or `.unique()`."
      ]
    },
    {
      "cell_type": "code",
      "execution_count": null,
      "metadata": {
        "scrolled": true,
        "id": "fDw9ERbPVKb8"
      },
      "outputs": [],
      "source": [
        "# Your code here"
      ]
    },
    {
      "cell_type": "markdown",
      "metadata": {
        "id": "8cxifu0NVKb8"
      },
      "source": [
        "## Changing Values and Creating New Columns"
      ]
    },
    {
      "cell_type": "markdown",
      "metadata": {
        "id": "WdFIrAyZVKb8"
      },
      "source": [
        "In World Cup history, **how many matches had 5 goals or more in total**? Create a column `\"Total Goals\"` to answer this question."
      ]
    },
    {
      "cell_type": "code",
      "execution_count": null,
      "metadata": {
        "id": "KRhUQz7MVKb8"
      },
      "outputs": [],
      "source": [
        "# Your code here"
      ]
    },
    {
      "cell_type": "markdown",
      "metadata": {
        "id": "nQtLCAVoVKb8"
      },
      "source": [
        "Now **create a new column `\"Half-time Goals\"`** in `df` that includes both home and away values."
      ]
    },
    {
      "cell_type": "code",
      "execution_count": null,
      "metadata": {
        "id": "clT4I-AuVKb8"
      },
      "outputs": [],
      "source": [
        "# Your code here"
      ]
    },
    {
      "cell_type": "code",
      "execution_count": null,
      "metadata": {
        "id": "OWQmwqarVKb8"
      },
      "outputs": [],
      "source": [
        "# Run this cell without changes to see your new column\n",
        "df.columns"
      ]
    },
    {
      "cell_type": "markdown",
      "metadata": {
        "id": "iN-26TqoVKb8"
      },
      "source": [
        "Run the code below. You'll notice that for Korea, there are records for both North-Korea (Korea DPR) and South-Korea (Korea Republic)."
      ]
    },
    {
      "cell_type": "code",
      "execution_count": null,
      "metadata": {
        "id": "oOvhYzeuVKb9"
      },
      "outputs": [],
      "source": [
        "# Run this cell without changes\n",
        "\n",
        "# Display all records containing the string 'Korea'\n",
        "df.loc[df['Home Team Name'].str.contains('Korea'), 'Home Team Name']"
      ]
    },
    {
      "cell_type": "markdown",
      "metadata": {
        "id": "grTvvLJgVKb9"
      },
      "source": [
        "Imagine that, for some reason, we simply want Korea listed as one entry, so we want to replace every \"Home Team Name\" and \"Away Team Name\" entry that contains \"Korea\" to simply \"Korea\". In the same way, we want to change the columns \"Home Team Initials\" and \"Away Team Initials\" to NSK (North & South Korea) instead of \"KOR\" and \"PRK\"."
      ]
    },
    {
      "cell_type": "code",
      "execution_count": null,
      "metadata": {
        "id": "cfikREIpVKb9"
      },
      "outputs": [],
      "source": [
        "# Update the 'Home Team Name' and 'Home Team Initials' columns\n"
      ]
    },
    {
      "cell_type": "markdown",
      "metadata": {
        "id": "zTR-y2CmVKb9"
      },
      "source": [
        "Make sure to verify your answer!"
      ]
    },
    {
      "cell_type": "code",
      "execution_count": null,
      "metadata": {
        "id": "vWJQrc-0VKb9"
      },
      "outputs": [],
      "source": [
        "# Check the updated columns\n"
      ]
    },
    {
      "cell_type": "markdown",
      "metadata": {
        "id": "zL4IccKZVKb9"
      },
      "source": [
        "## Summary\n",
        "\n",
        "In this lab, you practiced accessing data within Pandas!"
      ]
    }
  ],
  "metadata": {
    "kernelspec": {
      "display_name": "Python (learn-env)",
      "language": "python",
      "name": "learn-env"
    },
    "language_info": {
      "codemirror_mode": {
        "name": "ipython",
        "version": 3
      },
      "file_extension": ".py",
      "mimetype": "text/x-python",
      "name": "python",
      "nbconvert_exporter": "python",
      "pygments_lexer": "ipython3",
      "version": "3.8.5"
    },
    "colab": {
      "provenance": []
    }
  },
  "nbformat": 4,
  "nbformat_minor": 0
}